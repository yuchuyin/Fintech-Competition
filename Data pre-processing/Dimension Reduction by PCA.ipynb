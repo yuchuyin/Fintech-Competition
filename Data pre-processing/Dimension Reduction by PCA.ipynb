{
 "cells": [
  {
   "cell_type": "code",
   "execution_count": 1,
   "metadata": {},
   "outputs": [
    {
     "data": {
      "text/plain": [
       "'C:\\\\Users\\\\user\\\\Desktop\\\\FINTECH'"
      ]
     },
     "execution_count": 1,
     "metadata": {},
     "output_type": "execute_result"
    }
   ],
   "source": [
    "import os, time, glob, socket\n",
    "import pandas as pd\n",
    "import numpy as np\n",
    "import matplotlib.pyplot as plt\n",
    "import random\n",
    "import csv\n",
    "import pickle\n",
    "from sklearn.preprocessing import StandardScaler\n",
    "random.seed(123)\n",
    "pd.set_option(\"display.max_columns\", None)\n",
    "from sklearn.preprocessing import LabelEncoder\n",
    "os.getcwd()"
   ]
  },
  {
   "cell_type": "code",
   "execution_count": 2,
   "metadata": {},
   "outputs": [],
   "source": [
    "os.chdir(r'D:\\fintech')"
   ]
  },
  {
   "cell_type": "markdown",
   "metadata": {},
   "source": [
    "# 原始的所有變數"
   ]
  },
  {
   "cell_type": "code",
   "execution_count": 3,
   "metadata": {
    "scrolled": true
   },
   "outputs": [
    {
     "name": "stdout",
     "output_type": "stream",
     "text": [
      "(2132800, 150)\n",
      "(533200, 150)\n",
      "(2132800, 2)\n"
     ]
    }
   ],
   "source": [
    "X_train = pd.read_csv(\"X_train.csv\")\n",
    "X_test = pd.read_csv(\"X_test.csv\")\n",
    "y_train = pd.read_csv(\"Y_train.csv\")\n",
    "\n",
    "print(X_train.shape)\n",
    "print(X_test.shape)\n",
    "print(y_train.shape)\n",
    "\n",
    "# 上下合併  X_train X_test \n",
    "X_all=pd.concat([X_train,X_test],axis=0,ignore_index=True,verify_integrity=False)"
   ]
  },
  {
   "cell_type": "markdown",
   "metadata": {},
   "source": [
    "# 連續的"
   ]
  },
  {
   "cell_type": "code",
   "execution_count": 4,
   "metadata": {},
   "outputs": [],
   "source": [
    "num=['acc_now_delinq','acc_open_past_24mths','all_util','annual_inc','annual_inc_joint','avg_cur_bal',\n",
    "'bc_open_to_buy','bc_util','chargeoff_within_12_mths','collection_recovery_fee','collections_12_mths_ex_med',\n",
    "'delinq_2yrs','deferral_term','delinq_amnt','dti','dti_joint', 'fico_range_high','fico_range_low','funded_amnt',\n",
    "'funded_amnt_inv','hardship_amount','hardship_dpd','hardship_last_payment_amount','hardship_length',\n",
    "'hardship_payoff_balance_amount','il_util' ,'inq_fi','inq_last_12m','inq_last_6mths','installment','last_fico_range_high',\n",
    "'last_fico_range_low','last_pymnt_amnt','loan_amnt','max_bal_bc', 'mo_sin_old_il_acct','mo_sin_old_rev_tl_op',\n",
    "'mo_sin_rcnt_rev_tl_op','mo_sin_rcnt_tl','mort_acc','mths_since_last_delinq','mths_since_last_major_derog',\n",
    "'mths_since_last_record','mths_since_rcnt_il','mths_since_recent_bc','mths_since_recent_bc_dlq',\n",
    "'mths_since_recent_inq','mths_since_recent_revol_delinq','num_accts_ever_120_pd','num_actv_bc_tl',\n",
    "'num_actv_rev_tl','num_bc_sats','num_bc_tl','num_il_tl','num_op_rev_tl','num_rev_accts','num_rev_tl_bal_gt_0',\n",
    "'num_sats','num_tl_120dpd_2m','num_tl_30dpd','num_tl_90g_dpd_24m','num_tl_op_past_12m','open_acc','open_acc_6m',\n",
    "'open_act_il','open_il_12m','open_il_24m','open_rv_12m','open_rv_24m','orig_projected_additional_accrued_interest',\n",
    "'out_prncp','out_prncp_inv','pct_tl_nvr_dlq','percent_bc_gt_75','policy_code','pub_rec','pub_rec_bankruptcies','recoveries',\n",
    "'revol_bal','revol_bal_joint','sec_app_chargeoff_within_12_mths','sec_app_collections_12_mths_ex_med','sec_app_fico_range_high',\n",
    "'sec_app_fico_range_low','sec_app_inq_last_6mths','sec_app_mort_acc','sec_app_mths_since_last_major_derog',\n",
    "'sec_app_num_rev_accts','sec_app_open_acc','sec_app_open_act_il','sec_app_revol_util','settlement_amount',\n",
    "'settlement_percentage','settlement_term' ,'tax_liens','tot_coll_amt','tot_cur_bal','tot_hi_cred_lim','total_acc'\n",
    ",'total_bal_ex_mort','total_bal_il','total_bc_limit','total_cu_tl','total_il_high_credit_limit','total_pymnt','total_pymnt_inv'\n",
    ",'total_rec_int','total_rec_late_fee','total_rec_prncp','total_rev_hi_lim' ]"
   ]
  },
  {
   "cell_type": "code",
   "execution_count": 5,
   "metadata": {},
   "outputs": [
    {
     "name": "stdout",
     "output_type": "stream",
     "text": [
      "(2666000, 110)\n"
     ]
    }
   ],
   "source": [
    "X_num=X_all[num]\n",
    "print(X_num.shape)"
   ]
  },
  {
   "cell_type": "markdown",
   "metadata": {},
   "source": [
    "# 有文字的---drop url"
   ]
  },
  {
   "cell_type": "code",
   "execution_count": 6,
   "metadata": {},
   "outputs": [
    {
     "name": "stdout",
     "output_type": "stream",
     "text": [
      "36\n",
      "(2666000, 36)\n"
     ]
    }
   ],
   "source": [
    "char=['addr_state','application_type','debt_settlement_flag','debt_settlement_flag_date','desc','earliest_cr_line','emp_length','emp_title','grade',\n",
    " 'hardship_end_date','hardship_flag','hardship_loan_status','hardship_reason','hardship_start_date','hardship_status',\n",
    " 'hardship_type','home_ownership','initial_list_status','int_rate','issue_d','last_credit_pull_d','last_pymnt_d',\n",
    " 'next_pymnt_d','payment_plan_start_date','purpose','pymnt_plan','revol_util','sec_app_earliest_cr_line','sub_grade',\n",
    "'settlement_date','settlement_status','term','title','verification_status','verification_status_joint','zip_code']\n",
    "print(len(char))\n",
    "X_char=X_all[char]\n",
    "print(X_char.shape)"
   ]
  },
  {
   "cell_type": "markdown",
   "metadata": {},
   "source": [
    "# 沒有意義"
   ]
  },
  {
   "cell_type": "code",
   "execution_count": 7,
   "metadata": {},
   "outputs": [
    {
     "name": "stdout",
     "output_type": "stream",
     "text": [
      "4\n",
      "(2666000,)\n"
     ]
    }
   ],
   "source": [
    "NO=['Unnamed: 0','Unnamed: 0.1', 'id', 'member_id']\n",
    "print(len(NO))\n",
    "X_id=X_all['id']\n",
    "print(X_id.shape)"
   ]
  },
  {
   "cell_type": "markdown",
   "metadata": {},
   "source": [
    "# missing vale"
   ]
  },
  {
   "cell_type": "markdown",
   "metadata": {},
   "source": [
    "## num"
   ]
  },
  {
   "cell_type": "code",
   "execution_count": 8,
   "metadata": {},
   "outputs": [
    {
     "name": "stdout",
     "output_type": "stream",
     "text": [
      "(2666000, 0)\n",
      "(2666000, 67)\n"
     ]
    }
   ],
   "source": [
    "# 看 MISSING VALUE \n",
    "num_isnull=X_num.isnull().sum(axis=0)\n",
    "\n",
    "# 沒有 MISSING VALUE 的部分(變數)\n",
    "num_without_na=num_isnull[num_isnull == 0]\n",
    "X_num_without_na=X_num[num_without_na.index]\n",
    "\n",
    "# 有 MISSING VALUE 的部分(變數)\n",
    "num_with_na=num_isnull[num_isnull != 0]\n",
    "X_num_with_na=X_num[num_with_na.index]\n",
    "\n",
    "## 刪除 有 >20% missing value 的變數 ---\n",
    "num_with_na_le20=num_with_na[num_with_na < 0.2*X_num.shape[0]]\n",
    "X_with_na_le20=X_num[num_with_na_le20.index]\n",
    "\n",
    "print(X_num_without_na.shape)\n",
    "print(X_with_na_le20.shape)"
   ]
  },
  {
   "cell_type": "markdown",
   "metadata": {},
   "source": [
    "# num 補值"
   ]
  },
  {
   "cell_type": "code",
   "execution_count": 37,
   "metadata": {},
   "outputs": [
    {
     "name": "stdout",
     "output_type": "stream",
     "text": [
      "(2666000, 68)\n",
      "(2193986, 68)\n",
      "(472014, 68)\n"
     ]
    }
   ],
   "source": [
    "# 需要補值的整筆 data\n",
    "use_var=['id']+num_without_na.index.tolist()+num_with_na_le20.index.tolist() #加入 id\n",
    "X_num_use_var=X_all[use_var]\n",
    "print(X_num_use_var.shape)\n",
    "\n",
    "# data中沒有 missing value 的部分(觀測值)\n",
    "filter=X_num_use_var.isnull().sum(axis=1)==0\n",
    "X_num_use_var_rowwithoutna=X_num_use_var[filter] # 含有 NA的 觀測值分\n",
    "print(X_num_use_var_rowwithoutna.shape)\n",
    "\n",
    "# data中有 missing value 的部分(觀測值)\n",
    "filter=X_num_use_var.isnull().sum(axis=1)!=0\n",
    "X_num_use_var_rowwithna=X_num_use_var[filter] # 含有 NA的 觀測值分\n",
    "print(X_num_use_var_rowwithna.shape)"
   ]
  },
  {
   "cell_type": "code",
   "execution_count": 38,
   "metadata": {},
   "outputs": [],
   "source": [
    "from sklearn.linear_model import BayesianRidge\n",
    "from sklearn.tree import DecisionTreeRegressor\n",
    "from sklearn.ensemble import ExtraTreesRegressor\n",
    "from sklearn.neighbors import KNeighborsRegressor\n",
    "from sklearn.pipeline import make_pipeline\n",
    "from sklearn.model_selection import cross_val_score\n",
    "from sklearn.experimental import enable_iterative_imputer\n",
    "from sklearn.impute import IterativeImputer\n"
   ]
  },
  {
   "cell_type": "code",
   "execution_count": 39,
   "metadata": {},
   "outputs": [],
   "source": [
    "from sklearn.neighbors import KNeighborsClassifier, KNeighborsRegressor"
   ]
  },
  {
   "cell_type": "code",
   "execution_count": 40,
   "metadata": {},
   "outputs": [],
   "source": [
    "from sklearn.impute import KNNImputer"
   ]
  },
  {
   "cell_type": "code",
   "execution_count": 41,
   "metadata": {},
   "outputs": [
    {
     "name": "stderr",
     "output_type": "stream",
     "text": [
      "C:\\Users\\user\\anaconda3\\lib\\site-packages\\ipykernel_launcher.py:5: SettingWithCopyWarning: \n",
      "A value is trying to be set on a copy of a slice from a DataFrame.\n",
      "Try using .loc[row_indexer,col_indexer] = value instead\n",
      "\n",
      "See the caveats in the documentation: https://pandas.pydata.org/pandas-docs/stable/user_guide/indexing.html#returning-a-view-versus-a-copy\n",
      "  \"\"\"\n"
     ]
    }
   ],
   "source": [
    "# 用 mean 補值\n",
    "var=X_num_use_var.columns.tolist()\n",
    "\n",
    "for i in range(0,len(var)): \n",
    "     X_num_use_var[str(var[i])]=X_num_use_var[str(var[i])].fillna(X_num_use_var[str(var[i])].mean())"
   ]
  },
  {
   "cell_type": "code",
   "execution_count": 44,
   "metadata": {
    "scrolled": true
   },
   "outputs": [
    {
     "data": {
      "text/html": [
       "<div>\n",
       "<style scoped>\n",
       "    .dataframe tbody tr th:only-of-type {\n",
       "        vertical-align: middle;\n",
       "    }\n",
       "\n",
       "    .dataframe tbody tr th {\n",
       "        vertical-align: top;\n",
       "    }\n",
       "\n",
       "    .dataframe thead th {\n",
       "        text-align: right;\n",
       "    }\n",
       "</style>\n",
       "<table border=\"1\" class=\"dataframe\">\n",
       "  <thead>\n",
       "    <tr style=\"text-align: right;\">\n",
       "      <th></th>\n",
       "      <th>id</th>\n",
       "      <th>acc_now_delinq</th>\n",
       "      <th>acc_open_past_24mths</th>\n",
       "      <th>annual_inc</th>\n",
       "      <th>avg_cur_bal</th>\n",
       "      <th>bc_open_to_buy</th>\n",
       "      <th>bc_util</th>\n",
       "      <th>chargeoff_within_12_mths</th>\n",
       "      <th>collection_recovery_fee</th>\n",
       "      <th>collections_12_mths_ex_med</th>\n",
       "      <th>delinq_2yrs</th>\n",
       "      <th>delinq_amnt</th>\n",
       "      <th>dti</th>\n",
       "      <th>fico_range_high</th>\n",
       "      <th>fico_range_low</th>\n",
       "      <th>funded_amnt</th>\n",
       "      <th>funded_amnt_inv</th>\n",
       "      <th>inq_last_6mths</th>\n",
       "      <th>installment</th>\n",
       "      <th>last_fico_range_high</th>\n",
       "      <th>last_fico_range_low</th>\n",
       "      <th>last_pymnt_amnt</th>\n",
       "      <th>loan_amnt</th>\n",
       "      <th>mo_sin_old_il_acct</th>\n",
       "      <th>mo_sin_old_rev_tl_op</th>\n",
       "      <th>mo_sin_rcnt_rev_tl_op</th>\n",
       "      <th>mo_sin_rcnt_tl</th>\n",
       "      <th>mort_acc</th>\n",
       "      <th>mths_since_recent_bc</th>\n",
       "      <th>mths_since_recent_inq</th>\n",
       "      <th>num_accts_ever_120_pd</th>\n",
       "      <th>num_actv_bc_tl</th>\n",
       "      <th>num_actv_rev_tl</th>\n",
       "      <th>num_bc_sats</th>\n",
       "      <th>num_bc_tl</th>\n",
       "      <th>num_il_tl</th>\n",
       "      <th>num_op_rev_tl</th>\n",
       "      <th>num_rev_accts</th>\n",
       "      <th>num_rev_tl_bal_gt_0</th>\n",
       "      <th>num_sats</th>\n",
       "      <th>num_tl_120dpd_2m</th>\n",
       "      <th>num_tl_30dpd</th>\n",
       "      <th>num_tl_90g_dpd_24m</th>\n",
       "      <th>num_tl_op_past_12m</th>\n",
       "      <th>open_acc</th>\n",
       "      <th>out_prncp</th>\n",
       "      <th>out_prncp_inv</th>\n",
       "      <th>pct_tl_nvr_dlq</th>\n",
       "      <th>percent_bc_gt_75</th>\n",
       "      <th>policy_code</th>\n",
       "      <th>pub_rec</th>\n",
       "      <th>pub_rec_bankruptcies</th>\n",
       "      <th>recoveries</th>\n",
       "      <th>revol_bal</th>\n",
       "      <th>tax_liens</th>\n",
       "      <th>tot_coll_amt</th>\n",
       "      <th>tot_cur_bal</th>\n",
       "      <th>tot_hi_cred_lim</th>\n",
       "      <th>total_acc</th>\n",
       "      <th>total_bal_ex_mort</th>\n",
       "      <th>total_bc_limit</th>\n",
       "      <th>total_il_high_credit_limit</th>\n",
       "      <th>total_pymnt</th>\n",
       "      <th>total_pymnt_inv</th>\n",
       "      <th>total_rec_int</th>\n",
       "      <th>total_rec_late_fee</th>\n",
       "      <th>total_rec_prncp</th>\n",
       "      <th>total_rev_hi_lim</th>\n",
       "    </tr>\n",
       "  </thead>\n",
       "  <tbody>\n",
       "    <tr>\n",
       "      <th>0</th>\n",
       "      <td>2115583</td>\n",
       "      <td>0.0</td>\n",
       "      <td>3.0</td>\n",
       "      <td>58000.0</td>\n",
       "      <td>20068.0</td>\n",
       "      <td>448.0</td>\n",
       "      <td>95.6</td>\n",
       "      <td>0.0</td>\n",
       "      <td>0.0</td>\n",
       "      <td>0.0</td>\n",
       "      <td>0.0</td>\n",
       "      <td>0.0</td>\n",
       "      <td>24.65</td>\n",
       "      <td>729.0</td>\n",
       "      <td>725.0</td>\n",
       "      <td>3000.0</td>\n",
       "      <td>3000.0</td>\n",
       "      <td>0.0</td>\n",
       "      <td>93.86</td>\n",
       "      <td>694.0</td>\n",
       "      <td>690.0</td>\n",
       "      <td>2257.65</td>\n",
       "      <td>3000.0</td>\n",
       "      <td>113.0</td>\n",
       "      <td>158.0</td>\n",
       "      <td>18.0</td>\n",
       "      <td>17.0</td>\n",
       "      <td>1.0</td>\n",
       "      <td>50.0</td>\n",
       "      <td>17.0</td>\n",
       "      <td>0.0</td>\n",
       "      <td>4.0</td>\n",
       "      <td>6.0</td>\n",
       "      <td>4.0</td>\n",
       "      <td>8.0</td>\n",
       "      <td>4.0</td>\n",
       "      <td>9.0</td>\n",
       "      <td>16.0</td>\n",
       "      <td>6.0</td>\n",
       "      <td>12.0</td>\n",
       "      <td>0.0</td>\n",
       "      <td>0.0</td>\n",
       "      <td>0.0</td>\n",
       "      <td>0.0</td>\n",
       "      <td>12.0</td>\n",
       "      <td>0.00</td>\n",
       "      <td>0.00</td>\n",
       "      <td>100.0</td>\n",
       "      <td>100.0</td>\n",
       "      <td>1.0</td>\n",
       "      <td>0.0</td>\n",
       "      <td>0.0</td>\n",
       "      <td>0.0</td>\n",
       "      <td>14362.0</td>\n",
       "      <td>0.0</td>\n",
       "      <td>0.0</td>\n",
       "      <td>240820.0</td>\n",
       "      <td>283149.0</td>\n",
       "      <td>21.0</td>\n",
       "      <td>43597.0</td>\n",
       "      <td>10100.0</td>\n",
       "      <td>41899.0</td>\n",
       "      <td>3194.930000</td>\n",
       "      <td>3194.93</td>\n",
       "      <td>194.93</td>\n",
       "      <td>0.0</td>\n",
       "      <td>3000.00</td>\n",
       "      <td>28800.0</td>\n",
       "    </tr>\n",
       "    <tr>\n",
       "      <th>1</th>\n",
       "      <td>325608</td>\n",
       "      <td>0.0</td>\n",
       "      <td>5.0</td>\n",
       "      <td>80000.0</td>\n",
       "      <td>41635.0</td>\n",
       "      <td>1943.0</td>\n",
       "      <td>22.3</td>\n",
       "      <td>0.0</td>\n",
       "      <td>0.0</td>\n",
       "      <td>0.0</td>\n",
       "      <td>0.0</td>\n",
       "      <td>0.0</td>\n",
       "      <td>17.51</td>\n",
       "      <td>749.0</td>\n",
       "      <td>745.0</td>\n",
       "      <td>24000.0</td>\n",
       "      <td>24000.0</td>\n",
       "      <td>0.0</td>\n",
       "      <td>761.08</td>\n",
       "      <td>674.0</td>\n",
       "      <td>670.0</td>\n",
       "      <td>761.08</td>\n",
       "      <td>24000.0</td>\n",
       "      <td>116.0</td>\n",
       "      <td>102.0</td>\n",
       "      <td>6.0</td>\n",
       "      <td>5.0</td>\n",
       "      <td>3.0</td>\n",
       "      <td>6.0</td>\n",
       "      <td>5.0</td>\n",
       "      <td>0.0</td>\n",
       "      <td>1.0</td>\n",
       "      <td>1.0</td>\n",
       "      <td>2.0</td>\n",
       "      <td>2.0</td>\n",
       "      <td>10.0</td>\n",
       "      <td>2.0</td>\n",
       "      <td>6.0</td>\n",
       "      <td>1.0</td>\n",
       "      <td>5.0</td>\n",
       "      <td>0.0</td>\n",
       "      <td>0.0</td>\n",
       "      <td>0.0</td>\n",
       "      <td>5.0</td>\n",
       "      <td>5.0</td>\n",
       "      <td>16690.99</td>\n",
       "      <td>16690.99</td>\n",
       "      <td>100.0</td>\n",
       "      <td>0.0</td>\n",
       "      <td>1.0</td>\n",
       "      <td>0.0</td>\n",
       "      <td>0.0</td>\n",
       "      <td>0.0</td>\n",
       "      <td>557.0</td>\n",
       "      <td>0.0</td>\n",
       "      <td>0.0</td>\n",
       "      <td>208174.0</td>\n",
       "      <td>216203.0</td>\n",
       "      <td>19.0</td>\n",
       "      <td>67013.0</td>\n",
       "      <td>2500.0</td>\n",
       "      <td>71703.0</td>\n",
       "      <td>9109.470000</td>\n",
       "      <td>9109.47</td>\n",
       "      <td>1800.46</td>\n",
       "      <td>0.0</td>\n",
       "      <td>7309.01</td>\n",
       "      <td>2500.0</td>\n",
       "    </tr>\n",
       "    <tr>\n",
       "      <th>2</th>\n",
       "      <td>334066</td>\n",
       "      <td>0.0</td>\n",
       "      <td>3.0</td>\n",
       "      <td>45000.0</td>\n",
       "      <td>12320.0</td>\n",
       "      <td>2926.0</td>\n",
       "      <td>39.0</td>\n",
       "      <td>0.0</td>\n",
       "      <td>0.0</td>\n",
       "      <td>0.0</td>\n",
       "      <td>0.0</td>\n",
       "      <td>0.0</td>\n",
       "      <td>23.33</td>\n",
       "      <td>724.0</td>\n",
       "      <td>720.0</td>\n",
       "      <td>10000.0</td>\n",
       "      <td>10000.0</td>\n",
       "      <td>0.0</td>\n",
       "      <td>324.23</td>\n",
       "      <td>759.0</td>\n",
       "      <td>755.0</td>\n",
       "      <td>324.23</td>\n",
       "      <td>10000.0</td>\n",
       "      <td>158.0</td>\n",
       "      <td>146.0</td>\n",
       "      <td>15.0</td>\n",
       "      <td>12.0</td>\n",
       "      <td>1.0</td>\n",
       "      <td>15.0</td>\n",
       "      <td>12.0</td>\n",
       "      <td>0.0</td>\n",
       "      <td>4.0</td>\n",
       "      <td>5.0</td>\n",
       "      <td>4.0</td>\n",
       "      <td>4.0</td>\n",
       "      <td>12.0</td>\n",
       "      <td>7.0</td>\n",
       "      <td>7.0</td>\n",
       "      <td>5.0</td>\n",
       "      <td>11.0</td>\n",
       "      <td>0.0</td>\n",
       "      <td>0.0</td>\n",
       "      <td>0.0</td>\n",
       "      <td>1.0</td>\n",
       "      <td>11.0</td>\n",
       "      <td>7002.98</td>\n",
       "      <td>7002.98</td>\n",
       "      <td>90.5</td>\n",
       "      <td>0.0</td>\n",
       "      <td>1.0</td>\n",
       "      <td>0.0</td>\n",
       "      <td>0.0</td>\n",
       "      <td>0.0</td>\n",
       "      <td>2531.0</td>\n",
       "      <td>0.0</td>\n",
       "      <td>64.0</td>\n",
       "      <td>135519.0</td>\n",
       "      <td>150310.0</td>\n",
       "      <td>21.0</td>\n",
       "      <td>32492.0</td>\n",
       "      <td>4800.0</td>\n",
       "      <td>35450.0</td>\n",
       "      <td>3885.020000</td>\n",
       "      <td>3885.02</td>\n",
       "      <td>888.00</td>\n",
       "      <td>0.0</td>\n",
       "      <td>2997.02</td>\n",
       "      <td>7700.0</td>\n",
       "    </tr>\n",
       "    <tr>\n",
       "      <th>3</th>\n",
       "      <td>775123</td>\n",
       "      <td>0.0</td>\n",
       "      <td>4.0</td>\n",
       "      <td>76000.0</td>\n",
       "      <td>22974.0</td>\n",
       "      <td>60001.0</td>\n",
       "      <td>9.2</td>\n",
       "      <td>0.0</td>\n",
       "      <td>0.0</td>\n",
       "      <td>0.0</td>\n",
       "      <td>0.0</td>\n",
       "      <td>0.0</td>\n",
       "      <td>28.47</td>\n",
       "      <td>784.0</td>\n",
       "      <td>780.0</td>\n",
       "      <td>5000.0</td>\n",
       "      <td>5000.0</td>\n",
       "      <td>1.0</td>\n",
       "      <td>153.64</td>\n",
       "      <td>774.0</td>\n",
       "      <td>770.0</td>\n",
       "      <td>4389.73</td>\n",
       "      <td>5000.0</td>\n",
       "      <td>115.0</td>\n",
       "      <td>154.0</td>\n",
       "      <td>5.0</td>\n",
       "      <td>5.0</td>\n",
       "      <td>2.0</td>\n",
       "      <td>5.0</td>\n",
       "      <td>5.0</td>\n",
       "      <td>0.0</td>\n",
       "      <td>7.0</td>\n",
       "      <td>8.0</td>\n",
       "      <td>7.0</td>\n",
       "      <td>9.0</td>\n",
       "      <td>7.0</td>\n",
       "      <td>8.0</td>\n",
       "      <td>10.0</td>\n",
       "      <td>8.0</td>\n",
       "      <td>13.0</td>\n",
       "      <td>0.0</td>\n",
       "      <td>0.0</td>\n",
       "      <td>0.0</td>\n",
       "      <td>3.0</td>\n",
       "      <td>13.0</td>\n",
       "      <td>0.00</td>\n",
       "      <td>0.00</td>\n",
       "      <td>100.0</td>\n",
       "      <td>0.0</td>\n",
       "      <td>1.0</td>\n",
       "      <td>0.0</td>\n",
       "      <td>0.0</td>\n",
       "      <td>0.0</td>\n",
       "      <td>6136.0</td>\n",
       "      <td>0.0</td>\n",
       "      <td>0.0</td>\n",
       "      <td>298668.0</td>\n",
       "      <td>367844.0</td>\n",
       "      <td>19.0</td>\n",
       "      <td>139078.0</td>\n",
       "      <td>66100.0</td>\n",
       "      <td>131360.0</td>\n",
       "      <td>5133.402472</td>\n",
       "      <td>5133.40</td>\n",
       "      <td>133.40</td>\n",
       "      <td>0.0</td>\n",
       "      <td>5000.00</td>\n",
       "      <td>67600.0</td>\n",
       "    </tr>\n",
       "    <tr>\n",
       "      <th>4</th>\n",
       "      <td>1227286</td>\n",
       "      <td>0.0</td>\n",
       "      <td>4.0</td>\n",
       "      <td>72000.0</td>\n",
       "      <td>1285.0</td>\n",
       "      <td>7714.0</td>\n",
       "      <td>61.0</td>\n",
       "      <td>0.0</td>\n",
       "      <td>0.0</td>\n",
       "      <td>0.0</td>\n",
       "      <td>0.0</td>\n",
       "      <td>0.0</td>\n",
       "      <td>10.93</td>\n",
       "      <td>669.0</td>\n",
       "      <td>665.0</td>\n",
       "      <td>12000.0</td>\n",
       "      <td>12000.0</td>\n",
       "      <td>1.0</td>\n",
       "      <td>416.28</td>\n",
       "      <td>669.0</td>\n",
       "      <td>665.0</td>\n",
       "      <td>12268.23</td>\n",
       "      <td>12000.0</td>\n",
       "      <td>72.0</td>\n",
       "      <td>88.0</td>\n",
       "      <td>2.0</td>\n",
       "      <td>2.0</td>\n",
       "      <td>0.0</td>\n",
       "      <td>27.0</td>\n",
       "      <td>6.0</td>\n",
       "      <td>0.0</td>\n",
       "      <td>8.0</td>\n",
       "      <td>11.0</td>\n",
       "      <td>11.0</td>\n",
       "      <td>13.0</td>\n",
       "      <td>4.0</td>\n",
       "      <td>14.0</td>\n",
       "      <td>17.0</td>\n",
       "      <td>11.0</td>\n",
       "      <td>16.0</td>\n",
       "      <td>0.0</td>\n",
       "      <td>0.0</td>\n",
       "      <td>0.0</td>\n",
       "      <td>2.0</td>\n",
       "      <td>16.0</td>\n",
       "      <td>0.00</td>\n",
       "      <td>0.00</td>\n",
       "      <td>100.0</td>\n",
       "      <td>66.7</td>\n",
       "      <td>1.0</td>\n",
       "      <td>0.0</td>\n",
       "      <td>0.0</td>\n",
       "      <td>0.0</td>\n",
       "      <td>13406.0</td>\n",
       "      <td>0.0</td>\n",
       "      <td>0.0</td>\n",
       "      <td>17986.0</td>\n",
       "      <td>32567.0</td>\n",
       "      <td>21.0</td>\n",
       "      <td>17986.0</td>\n",
       "      <td>19800.0</td>\n",
       "      <td>8667.0</td>\n",
       "      <td>12248.163340</td>\n",
       "      <td>12248.16</td>\n",
       "      <td>248.16</td>\n",
       "      <td>0.0</td>\n",
       "      <td>12000.00</td>\n",
       "      <td>23900.0</td>\n",
       "    </tr>\n",
       "  </tbody>\n",
       "</table>\n",
       "</div>"
      ],
      "text/plain": [
       "        id  acc_now_delinq  acc_open_past_24mths  annual_inc  avg_cur_bal  \\\n",
       "0  2115583             0.0                   3.0     58000.0      20068.0   \n",
       "1   325608             0.0                   5.0     80000.0      41635.0   \n",
       "2   334066             0.0                   3.0     45000.0      12320.0   \n",
       "3   775123             0.0                   4.0     76000.0      22974.0   \n",
       "4  1227286             0.0                   4.0     72000.0       1285.0   \n",
       "\n",
       "   bc_open_to_buy  bc_util  chargeoff_within_12_mths  collection_recovery_fee  \\\n",
       "0           448.0     95.6                       0.0                      0.0   \n",
       "1          1943.0     22.3                       0.0                      0.0   \n",
       "2          2926.0     39.0                       0.0                      0.0   \n",
       "3         60001.0      9.2                       0.0                      0.0   \n",
       "4          7714.0     61.0                       0.0                      0.0   \n",
       "\n",
       "   collections_12_mths_ex_med  delinq_2yrs  delinq_amnt    dti  \\\n",
       "0                         0.0          0.0          0.0  24.65   \n",
       "1                         0.0          0.0          0.0  17.51   \n",
       "2                         0.0          0.0          0.0  23.33   \n",
       "3                         0.0          0.0          0.0  28.47   \n",
       "4                         0.0          0.0          0.0  10.93   \n",
       "\n",
       "   fico_range_high  fico_range_low  funded_amnt  funded_amnt_inv  \\\n",
       "0            729.0           725.0       3000.0           3000.0   \n",
       "1            749.0           745.0      24000.0          24000.0   \n",
       "2            724.0           720.0      10000.0          10000.0   \n",
       "3            784.0           780.0       5000.0           5000.0   \n",
       "4            669.0           665.0      12000.0          12000.0   \n",
       "\n",
       "   inq_last_6mths  installment  last_fico_range_high  last_fico_range_low  \\\n",
       "0             0.0        93.86                 694.0                690.0   \n",
       "1             0.0       761.08                 674.0                670.0   \n",
       "2             0.0       324.23                 759.0                755.0   \n",
       "3             1.0       153.64                 774.0                770.0   \n",
       "4             1.0       416.28                 669.0                665.0   \n",
       "\n",
       "   last_pymnt_amnt  loan_amnt  mo_sin_old_il_acct  mo_sin_old_rev_tl_op  \\\n",
       "0          2257.65     3000.0               113.0                 158.0   \n",
       "1           761.08    24000.0               116.0                 102.0   \n",
       "2           324.23    10000.0               158.0                 146.0   \n",
       "3          4389.73     5000.0               115.0                 154.0   \n",
       "4         12268.23    12000.0                72.0                  88.0   \n",
       "\n",
       "   mo_sin_rcnt_rev_tl_op  mo_sin_rcnt_tl  mort_acc  mths_since_recent_bc  \\\n",
       "0                   18.0            17.0       1.0                  50.0   \n",
       "1                    6.0             5.0       3.0                   6.0   \n",
       "2                   15.0            12.0       1.0                  15.0   \n",
       "3                    5.0             5.0       2.0                   5.0   \n",
       "4                    2.0             2.0       0.0                  27.0   \n",
       "\n",
       "   mths_since_recent_inq  num_accts_ever_120_pd  num_actv_bc_tl  \\\n",
       "0                   17.0                    0.0             4.0   \n",
       "1                    5.0                    0.0             1.0   \n",
       "2                   12.0                    0.0             4.0   \n",
       "3                    5.0                    0.0             7.0   \n",
       "4                    6.0                    0.0             8.0   \n",
       "\n",
       "   num_actv_rev_tl  num_bc_sats  num_bc_tl  num_il_tl  num_op_rev_tl  \\\n",
       "0              6.0          4.0        8.0        4.0            9.0   \n",
       "1              1.0          2.0        2.0       10.0            2.0   \n",
       "2              5.0          4.0        4.0       12.0            7.0   \n",
       "3              8.0          7.0        9.0        7.0            8.0   \n",
       "4             11.0         11.0       13.0        4.0           14.0   \n",
       "\n",
       "   num_rev_accts  num_rev_tl_bal_gt_0  num_sats  num_tl_120dpd_2m  \\\n",
       "0           16.0                  6.0      12.0               0.0   \n",
       "1            6.0                  1.0       5.0               0.0   \n",
       "2            7.0                  5.0      11.0               0.0   \n",
       "3           10.0                  8.0      13.0               0.0   \n",
       "4           17.0                 11.0      16.0               0.0   \n",
       "\n",
       "   num_tl_30dpd  num_tl_90g_dpd_24m  num_tl_op_past_12m  open_acc  out_prncp  \\\n",
       "0           0.0                 0.0                 0.0      12.0       0.00   \n",
       "1           0.0                 0.0                 5.0       5.0   16690.99   \n",
       "2           0.0                 0.0                 1.0      11.0    7002.98   \n",
       "3           0.0                 0.0                 3.0      13.0       0.00   \n",
       "4           0.0                 0.0                 2.0      16.0       0.00   \n",
       "\n",
       "   out_prncp_inv  pct_tl_nvr_dlq  percent_bc_gt_75  policy_code  pub_rec  \\\n",
       "0           0.00           100.0             100.0          1.0      0.0   \n",
       "1       16690.99           100.0               0.0          1.0      0.0   \n",
       "2        7002.98            90.5               0.0          1.0      0.0   \n",
       "3           0.00           100.0               0.0          1.0      0.0   \n",
       "4           0.00           100.0              66.7          1.0      0.0   \n",
       "\n",
       "   pub_rec_bankruptcies  recoveries  revol_bal  tax_liens  tot_coll_amt  \\\n",
       "0                   0.0         0.0    14362.0        0.0           0.0   \n",
       "1                   0.0         0.0      557.0        0.0           0.0   \n",
       "2                   0.0         0.0     2531.0        0.0          64.0   \n",
       "3                   0.0         0.0     6136.0        0.0           0.0   \n",
       "4                   0.0         0.0    13406.0        0.0           0.0   \n",
       "\n",
       "   tot_cur_bal  tot_hi_cred_lim  total_acc  total_bal_ex_mort  total_bc_limit  \\\n",
       "0     240820.0         283149.0       21.0            43597.0         10100.0   \n",
       "1     208174.0         216203.0       19.0            67013.0          2500.0   \n",
       "2     135519.0         150310.0       21.0            32492.0          4800.0   \n",
       "3     298668.0         367844.0       19.0           139078.0         66100.0   \n",
       "4      17986.0          32567.0       21.0            17986.0         19800.0   \n",
       "\n",
       "   total_il_high_credit_limit   total_pymnt  total_pymnt_inv  total_rec_int  \\\n",
       "0                     41899.0   3194.930000          3194.93         194.93   \n",
       "1                     71703.0   9109.470000          9109.47        1800.46   \n",
       "2                     35450.0   3885.020000          3885.02         888.00   \n",
       "3                    131360.0   5133.402472          5133.40         133.40   \n",
       "4                      8667.0  12248.163340         12248.16         248.16   \n",
       "\n",
       "   total_rec_late_fee  total_rec_prncp  total_rev_hi_lim  \n",
       "0                 0.0          3000.00           28800.0  \n",
       "1                 0.0          7309.01            2500.0  \n",
       "2                 0.0          2997.02            7700.0  \n",
       "3                 0.0          5000.00           67600.0  \n",
       "4                 0.0         12000.00           23900.0  "
      ]
     },
     "execution_count": 44,
     "metadata": {},
     "output_type": "execute_result"
    }
   ],
   "source": [
    "X_num_use_var.head()"
   ]
  },
  {
   "cell_type": "code",
   "execution_count": 46,
   "metadata": {},
   "outputs": [],
   "source": [
    "# 分 train test\n",
    "filter=X_num_use_var.index<X_train.shape[0]\n",
    "X_num_imp_train=X_num_use_var[filter]\n",
    "filter=X_num_use_var.index>=(X_all.shape[0]-X_test.shape[0])\n",
    "X_num_imp_test=X_num_use_var[filter]\n",
    "\n",
    "# 匯出 csv\n",
    "X_num_imp_train.to_csv(r\"X_num_imp_train.csv\")\n",
    "X_num_imp_test.to_csv(r\"X_num_imp_test.csv\")"
   ]
  },
  {
   "cell_type": "markdown",
   "metadata": {},
   "source": [
    "# CHAR 處理"
   ]
  },
  {
   "cell_type": "code",
   "execution_count": 47,
   "metadata": {},
   "outputs": [
    {
     "name": "stdout",
     "output_type": "stream",
     "text": [
      "(2666000, 0)\n",
      "(2666000, 22)\n"
     ]
    }
   ],
   "source": [
    "# 看 MISSING VALUE \n",
    "char_isnull=X_char.isnull().sum(axis=0)\n",
    "\n",
    "# 沒有 MISSING VALUE 的部分(變數)\n",
    "char_without_na=char_isnull[char_isnull == 0]\n",
    "X_char_without_na=X_char[char_without_na.index]\n",
    "\n",
    "# 有 MISSING VALUE 的部分(變數)\n",
    "char_with_na=char_isnull[char_isnull != 0]\n",
    "X_char_with_na=X_char[char_with_na.index]\n",
    "\n",
    "# 刪除 擁有 Missing value >20% 的變數\n",
    "char_with_na_le20=char_with_na[char_with_na < 0.2*X_char.shape[0]]\n",
    "X_char_with_na_le20=X_char[char_with_na_le20.index]\n",
    "\n",
    "print(X_char_without_na.shape)\n",
    "print(X_char_with_na_le20.shape)"
   ]
  },
  {
   "cell_type": "code",
   "execution_count": 48,
   "metadata": {},
   "outputs": [
    {
     "name": "stdout",
     "output_type": "stream",
     "text": [
      "(2666000, 23)\n"
     ]
    }
   ],
   "source": [
    "# char的整筆變數\n",
    "use_var=['id']+char_without_na.index.tolist()+char_with_na_le20.index.tolist() #加入 id\n",
    "X_char_use_var=X_all[use_var]\n",
    "print(X_char_use_var.shape)\n",
    "\n",
    "# 先不補植---直接分 train test\n",
    "filter=X_char_use_var.index<X_train.shape[0]\n",
    "X_char_train=X_char_use_var[filter]\n",
    "filter=X_char_use_var.index>=(X_all.shape[0]-X_test.shape[0])\n",
    "X_char_test=X_char_use_var[filter]\n",
    "\n",
    "# 匯出 csv\n",
    "X_char_train.to_csv(r\"X_char_train.csv\")\n",
    "X_char_test.to_csv(r\"X_char_test.csv\")"
   ]
  },
  {
   "cell_type": "markdown",
   "metadata": {},
   "source": [
    "## 檔案讀進來--合併就可以跑模型了"
   ]
  },
  {
   "cell_type": "code",
   "execution_count": 49,
   "metadata": {},
   "outputs": [
    {
     "name": "stderr",
     "output_type": "stream",
     "text": [
      "C:\\Users\\user\\anaconda3\\lib\\site-packages\\numpy\\lib\\arraysetops.py:569: FutureWarning: elementwise comparison failed; returning scalar instead, but in the future will perform elementwise comparison\n",
      "  mask |= (ar1 == a)\n"
     ]
    }
   ],
   "source": [
    "X_num_imp_train = pd.read_csv(\"X_num_imp_train.csv\",index_col=0)\n",
    "X_char_train = pd.read_csv(\"X_char_train.csv\",index_col=0)\n",
    "X_num_imp_test = pd.read_csv(\"X_num_imp_test.csv\",index_col=0)\n",
    "X_char_test = pd.read_csv(\"X_char_test.csv\",index_col=0)"
   ]
  },
  {
   "cell_type": "markdown",
   "metadata": {},
   "source": [
    "## train_num & test_num 一起做 PCA"
   ]
  },
  {
   "cell_type": "code",
   "execution_count": 50,
   "metadata": {},
   "outputs": [
    {
     "name": "stdout",
     "output_type": "stream",
     "text": [
      "21\n"
     ]
    }
   ],
   "source": [
    "from sklearn.decomposition import PCA \n",
    "X_num_imp_train_id=X_num_imp_train['id']\n",
    "X_num_imp_test_id=X_num_imp_test['id']\n",
    "# 拿掉 id\n",
    "X_num_imp_train=X_num_imp_train.drop(columns=['id'])\n",
    "X_num_imp_test=X_num_imp_test.drop(columns=['id'])\n",
    "\n",
    "# 标准化数据\n",
    "ss = StandardScaler()\n",
    "X_num_imp_train_std= ss.fit_transform(X_num_imp_train)\n",
    "X_num_imp_test_std=ss.fit_transform(X_num_imp_test)\n",
    "\n",
    "###  PCA\n",
    "pca=PCA(n_components=0.8,copy=True, whiten=False)\n",
    "X_num_imp_train_pca=pca.fit_transform(X_num_imp_train_std)\n",
    "\n",
    "#print(pca.explained_variance_ratio_) \n",
    "#print(pca.explained_variance_)\n",
    "print(pca.n_components_)\n",
    "\n",
    "# 查看降维后的数据\n",
    "X_num_imp_train_pca = pd.DataFrame(data=X_num_imp_train_pca)\n",
    "X_num_imp_train_pca.head()\n",
    "\n",
    "# 加回 id\n",
    "X_num_imp_train_pca['id']=X_num_imp_train_id"
   ]
  },
  {
   "cell_type": "markdown",
   "metadata": {},
   "source": [
    "## 把原始 testing 映射到主成分组成的子空间中"
   ]
  },
  {
   "cell_type": "code",
   "execution_count": 51,
   "metadata": {},
   "outputs": [],
   "source": [
    "X_num_imp_test_pca=pd.DataFrame(data=pca.transform(X_num_imp_test_std)) # 標準化之後的\n",
    "X_num_imp_test_pca['id']=X_num_imp_test_id.reset_index().id  # 加回 id"
   ]
  },
  {
   "cell_type": "code",
   "execution_count": 52,
   "metadata": {},
   "outputs": [
    {
     "name": "stdout",
     "output_type": "stream",
     "text": [
      "(2132800, 44)\n",
      "(533200, 44)\n"
     ]
    }
   ],
   "source": [
    "# 把 pca 後的 加上 char的\n",
    "X_train_new=pd.merge(X_num_imp_train_pca,X_char_train)\n",
    "X_test_new=pd.merge(X_num_imp_test_pca,X_char_test)\n",
    "print(X_train_new.shape)\n",
    "print(X_test_new.shape)"
   ]
  }
 ],
 "metadata": {
  "kernelspec": {
   "display_name": "Python 3",
   "language": "python",
   "name": "python3"
  },
  "language_info": {
   "codemirror_mode": {
    "name": "ipython",
    "version": 3
   },
   "file_extension": ".py",
   "mimetype": "text/x-python",
   "name": "python",
   "nbconvert_exporter": "python",
   "pygments_lexer": "ipython3",
   "version": "3.7.6"
  }
 },
 "nbformat": 4,
 "nbformat_minor": 4
}
