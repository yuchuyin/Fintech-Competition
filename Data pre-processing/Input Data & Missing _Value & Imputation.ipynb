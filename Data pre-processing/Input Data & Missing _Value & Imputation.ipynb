{
 "cells": [
  {
   "cell_type": "code",
   "execution_count": 1,
   "metadata": {},
   "outputs": [],
   "source": [
    "import os, time, glob, socket\n",
    "import pandas as pd\n",
    "import numpy as np\n",
    "import matplotlib.pyplot as plt\n",
    "import random\n",
    "import csv\n",
    "import pickle\n",
    "from sklearn.preprocessing import StandardScaler\n",
    "from sklearn.preprocessing import LabelEncoder\n"
   ]
  },
  {
   "cell_type": "code",
   "execution_count": 2,
   "metadata": {},
   "outputs": [],
   "source": [
    "os.getcwd() # 現在的路徑\n",
    "path=os.getcwd()"
   ]
  },
  {
   "cell_type": "markdown",
   "metadata": {},
   "source": [
    "# 1.讀取data"
   ]
  },
  {
   "cell_type": "code",
   "execution_count": 3,
   "metadata": {},
   "outputs": [
    {
     "name": "stdout",
     "output_type": "stream",
     "text": [
      "(1000, 150)\n",
      "(500, 150)\n",
      "(1000, 2)\n",
      "(500, 150)\n"
     ]
    }
   ],
   "source": [
    "X_train = pd.read_csv(\"X_train.csv\",index_col=0) #不重新給 Unnamed\n",
    "y_train = pd.read_csv(\"y_train.csv\",index_col=0) #不重新給 Unnamed\n",
    "X_test = pd.read_csv(\"X_test.csv\",index_col=0) #不重新給 Unnamed\n",
    "y_test = pd.read_csv(\"X_test.csv\",index_col=0) #不重新給 Unnamed\n",
    "print(X_train.shape)\n",
    "print(X_test.shape)\n",
    "print(y_train.shape)\n",
    "print(y_test.shape)"
   ]
  },
  {
   "cell_type": "markdown",
   "metadata": {},
   "source": [
    "# 2.先把 X_train 、 X_test 上下合併\n"
   ]
  },
  {
   "cell_type": "code",
   "execution_count": 4,
   "metadata": {},
   "outputs": [],
   "source": [
    "# axis=0 上下合併\n",
    "# ignore_index=True 可以忽略合併時舊的 index 欄位，改採用自動產生的 index\n",
    "X_all=pd.concat([X_train,X_test],axis=0,ignore_index=True) "
   ]
  },
  {
   "cell_type": "markdown",
   "metadata": {},
   "source": [
    "# 3. 先把missing value太多的變數刪除"
   ]
  },
  {
   "cell_type": "code",
   "execution_count": 5,
   "metadata": {},
   "outputs": [
    {
     "name": "stdout",
     "output_type": "stream",
     "text": [
      "150\n",
      "92\n"
     ]
    }
   ],
   "source": [
    "# 看 MISSING VALUE \n",
    "\n",
    "print(len(X_all.columns))\n",
    "X_all_isnull=X_all.isnull().sum(axis=0)\n",
    "X_all_with_na_le20=X_all_isnull[X_all_isnull < 0.2*X_all.shape[0]]## 刪除 有 >20% missing value 的變數 ---\n",
    "X_all=X_all[X_all_with_na_le20.index] \n",
    "print(len(X_all.columns))\n"
   ]
  },
  {
   "cell_type": "markdown",
   "metadata": {},
   "source": [
    "# 3. 變數分類(連續cont、有序類別order、無序類別cate)"
   ]
  },
  {
   "cell_type": "code",
   "execution_count": 6,
   "metadata": {
    "scrolled": false
   },
   "outputs": [
    {
     "data": {
      "text/plain": [
       "Unnamed: 0.1                    int64\n",
       "id                              int64\n",
       "loan_amnt                     float64\n",
       "funded_amnt                   float64\n",
       "funded_amnt_inv               float64\n",
       "                               ...   \n",
       "total_bal_ex_mort             float64\n",
       "total_bc_limit                float64\n",
       "total_il_high_credit_limit    float64\n",
       "hardship_flag                  object\n",
       "debt_settlement_flag           object\n",
       "Length: 92, dtype: object"
      ]
     },
     "execution_count": 6,
     "metadata": {},
     "output_type": "execute_result"
    }
   ],
   "source": [
    "X_all.dtypes"
   ]
  },
  {
   "cell_type": "code",
   "execution_count": 7,
   "metadata": {},
   "outputs": [],
   "source": [
    "# fuction\n",
    "\n",
    "def cate_cont(X_all):\n",
    "    \n",
    "    cate = [] # object\n",
    "    cont = [] # int64、float64\n",
    "\n",
    "    for i in range(X_all.shape[1]):\n",
    "        if X_all.dtypes[i] == \"object\":\n",
    "            cate.append(X_all.columns[i])\n",
    "        else:\n",
    "            cont.append(X_all.columns[i])\n",
    "    return cont , cate"
   ]
  },
  {
   "cell_type": "code",
   "execution_count": 8,
   "metadata": {},
   "outputs": [
    {
     "name": "stdout",
     "output_type": "stream",
     "text": [
      "['term', 'int_rate', 'grade', 'sub_grade', 'emp_title', 'emp_length', 'home_ownership', 'verification_status', 'issue_d', 'pymnt_plan', 'url', 'purpose', 'title', 'zip_code', 'addr_state', 'earliest_cr_line', 'revol_util', 'initial_list_status', 'last_pymnt_d', 'last_credit_pull_d', 'application_type', 'hardship_flag', 'debt_settlement_flag']\n",
      "23\n"
     ]
    }
   ],
   "source": [
    "print(cate_cont(X_all)[1]) # object\n",
    "print(len(cate_cont(X_all)[1]))"
   ]
  },
  {
   "cell_type": "markdown",
   "metadata": {},
   "source": [
    "### 3.1 處理 object 的變數"
   ]
  },
  {
   "cell_type": "markdown",
   "metadata": {},
   "source": [
    "#####  % 轉小數 (有 NA 沒關系)"
   ]
  },
  {
   "cell_type": "code",
   "execution_count": 9,
   "metadata": {
    "scrolled": true
   },
   "outputs": [],
   "source": [
    "list1=['int_rate','revol_util'] #要轉的變數\n",
    "\n",
    "for i in range(0,len(list1)):\n",
    "       X_all[list1[i]]= X_all[list1[i]].str.rstrip('%').astype('float') / 100.0\n",
    "        "
   ]
  },
  {
   "cell_type": "markdown",
   "metadata": {},
   "source": [
    "##### 拿掉單位 (如果有 NA--可能會沒辦法刪除 )"
   ]
  },
  {
   "cell_type": "code",
   "execution_count": 10,
   "metadata": {},
   "outputs": [
    {
     "name": "stdout",
     "output_type": "stream",
     "text": [
      "[nan ' 36 months' ' 60 months']\n"
     ]
    }
   ],
   "source": [
    "list2=['term'] #要轉的變數 可能要一個一個改 因為單位長度不一樣\n",
    "\n",
    "\n",
    "for i in range(0,len(list2)):\n",
    "\n",
    "    print(X_all[list2[i]].unique())\n",
    "\n",
    "    X_all[list2[i]] =X_all[list2[i]].astype(str)            # 將 nan 一併轉成 str\n",
    "    X_all[list2[i]]=X_all[list2[i]].apply(lambda x:x[0:-6]) # #從後面刪除數個字母 #nan可能全部被刪除剩下空格\n",
    "\n",
    "    X_all[list2[i]] = X_all[list2[i]].replace('', np.nan)   # 把空格填回 np.nan\n",
    "    X_all[list2[i]] =X_all[list2[i]].astype('float64')\n"
   ]
  },
  {
   "cell_type": "markdown",
   "metadata": {},
   "source": [
    "##### 改掉特殊符號 (有 NA 沒關系)"
   ]
  },
  {
   "cell_type": "code",
   "execution_count": 11,
   "metadata": {},
   "outputs": [
    {
     "name": "stdout",
     "output_type": "stream",
     "text": [
      "['1 year' '10+ years' '2 years' '< 1 year' '4 years' '3 years' '5 years'\n",
      " '6 years' '7 years' nan '8 years' '9 years']\n",
      "['1 year' '10more than years' '2 years' 'less than 1 year' '4 years'\n",
      " '3 years' '5 years' '6 years' '7 years' nan '8 years' '9 years']\n"
     ]
    }
   ],
   "source": [
    "list3=['emp_length'] #要轉的變數 可能要一個一個改 因為單位長度不一樣\n",
    "\n",
    "for i in range(0,len(list3)):\n",
    "\n",
    "    print(X_all[list3[i]].unique())\n",
    "    X_all[list3[i]]=X_all[list3[i]].str.replace('<','less than')\n",
    "    X_all[list3[i]]=X_all[list3[i]].str.replace('+','more than')\n",
    "\n",
    "    print(X_all[list3[i]].unique())"
   ]
  },
  {
   "cell_type": "code",
   "execution_count": 12,
   "metadata": {
    "scrolled": false
   },
   "outputs": [],
   "source": [
    "# 處理日期 issue_d ......\n",
    "\n"
   ]
  },
  {
   "cell_type": "markdown",
   "metadata": {},
   "source": [
    "### 3.2 決定object要留下的變數--判斷哪些是category 哪些是order  哪些num"
   ]
  },
  {
   "cell_type": "code",
   "execution_count": 12,
   "metadata": {
    "scrolled": true
   },
   "outputs": [
    {
     "name": "stdout",
     "output_type": "stream",
     "text": [
      "['addr_state', 'application_type', 'debt_settlement_flag', 'earliest_cr_line', 'emp_length', 'emp_title', 'grade', 'hardship_flag', 'home_ownership', 'initial_list_status', 'issue_d', 'last_credit_pull_d', 'last_pymnt_d', 'purpose', 'pymnt_plan', 'sub_grade', 'title', 'url', 'verification_status', 'zip_code']\n"
     ]
    }
   ],
   "source": [
    "obj=cate_cont(X_all)[1] # object\n",
    "obj.sort(reverse=False)\n",
    "print(obj)"
   ]
  },
  {
   "cell_type": "code",
   "execution_count": 13,
   "metadata": {},
   "outputs": [],
   "source": [
    "# 選擇要留的\n",
    "# 要留 'Unnamed: 0.1' \n",
    "\n",
    "order=['Unnamed: 0.1']+['grade','sub_grade']"
   ]
  },
  {
   "cell_type": "code",
   "execution_count": 14,
   "metadata": {},
   "outputs": [
    {
     "name": "stdout",
     "output_type": "stream",
     "text": [
      "['Unnamed: 0.1', 'application_type', 'debt_settlement_flag', 'emp_length', 'emp_title', 'hardship_flag', 'home_ownership', 'initial_list_status', 'purpose', 'pymnt_plan', 'sub_grade', 'title', 'verification_status']\n"
     ]
    }
   ],
   "source": [
    "# 選擇要留的\n",
    "# 要留 'Unnamed: 0.1' \n",
    "\n",
    "cate=['Unnamed: 0.1']+['application_type', 'debt_settlement_flag', 'emp_length', \n",
    "                       'emp_title', 'hardship_flag', 'home_ownership', 'initial_list_status', 'purpose', 'pymnt_plan', 'sub_grade', 'title', \n",
    "                       'verification_status']\n",
    "print(cate)"
   ]
  },
  {
   "cell_type": "code",
   "execution_count": 15,
   "metadata": {
    "scrolled": true
   },
   "outputs": [
    {
     "name": "stdout",
     "output_type": "stream",
     "text": [
      "['Unnamed: 0.1', 'loan_amnt', 'funded_amnt', 'funded_amnt_inv', 'term', 'int_rate', 'installment', 'annual_inc', 'dti', 'delinq_2yrs', 'fico_range_low', 'fico_range_high', 'inq_last_6mths', 'open_acc', 'pub_rec', 'revol_bal', 'revol_util', 'total_acc', 'out_prncp', 'out_prncp_inv', 'total_pymnt', 'total_pymnt_inv', 'total_rec_prncp', 'total_rec_int', 'total_rec_late_fee', 'recoveries', 'collection_recovery_fee', 'last_pymnt_amnt', 'last_fico_range_high', 'last_fico_range_low', 'collections_12_mths_ex_med', 'policy_code', 'acc_now_delinq', 'tot_coll_amt', 'tot_cur_bal', 'total_rev_hi_lim', 'acc_open_past_24mths', 'avg_cur_bal', 'bc_open_to_buy', 'bc_util', 'chargeoff_within_12_mths', 'delinq_amnt', 'mo_sin_old_il_acct', 'mo_sin_old_rev_tl_op', 'mo_sin_rcnt_rev_tl_op', 'mo_sin_rcnt_tl', 'mort_acc', 'mths_since_recent_bc', 'mths_since_recent_inq', 'num_accts_ever_120_pd', 'num_actv_bc_tl', 'num_actv_rev_tl', 'num_bc_sats', 'num_bc_tl', 'num_il_tl', 'num_op_rev_tl', 'num_rev_accts', 'num_rev_tl_bal_gt_0', 'num_sats', 'num_tl_120dpd_2m', 'num_tl_30dpd', 'num_tl_90g_dpd_24m', 'num_tl_op_past_12m', 'pct_tl_nvr_dlq', 'percent_bc_gt_75', 'pub_rec_bankruptcies', 'tax_liens', 'tot_hi_cred_lim', 'total_bal_ex_mort', 'total_bc_limit', 'total_il_high_credit_limit']\n"
     ]
    }
   ],
   "source": [
    "# 選擇要留的\n",
    "# 要留 'Unnamed: 0.1' \n",
    "\n",
    "num=cate_cont(X_all)[0]\n",
    "num.remove('id')\n",
    "print(num)"
   ]
  },
  {
   "cell_type": "markdown",
   "metadata": {},
   "source": [
    "# 4.分別補值、轉換"
   ]
  },
  {
   "cell_type": "code",
   "execution_count": 16,
   "metadata": {},
   "outputs": [
    {
     "name": "stdout",
     "output_type": "stream",
     "text": [
      "(1500, 71)\n",
      "(1500, 13)\n",
      "(1500, 3)\n"
     ]
    }
   ],
   "source": [
    "X_num=X_all[num]\n",
    "X_cate=X_all[cate]\n",
    "X_order=X_all[order]\n",
    "print(X_num.shape)\n",
    "print(X_cate.shape)\n",
    "print(X_order.shape)"
   ]
  },
  {
   "cell_type": "markdown",
   "metadata": {},
   "source": [
    "## cate"
   ]
  },
  {
   "cell_type": "markdown",
   "metadata": {},
   "source": [
    "### 4.1 cate 把 na當成一類"
   ]
  },
  {
   "cell_type": "code",
   "execution_count": 17,
   "metadata": {},
   "outputs": [
    {
     "data": {
      "text/plain": [
       "Unnamed: 0.1              0\n",
       "application_type          0\n",
       "debt_settlement_flag      0\n",
       "emp_length              108\n",
       "emp_title               131\n",
       "hardship_flag            36\n",
       "home_ownership            0\n",
       "initial_list_status       0\n",
       "purpose                   0\n",
       "pymnt_plan                0\n",
       "sub_grade                 0\n",
       "title                    14\n",
       "verification_status       0\n",
       "dtype: int64"
      ]
     },
     "execution_count": 17,
     "metadata": {},
     "output_type": "execute_result"
    }
   ],
   "source": [
    "X_cate.isnull().sum(axis=0)"
   ]
  },
  {
   "cell_type": "code",
   "execution_count": 18,
   "metadata": {},
   "outputs": [],
   "source": [
    "X_cate=X_cate.replace(np.nan,'unknown')"
   ]
  },
  {
   "cell_type": "code",
   "execution_count": 19,
   "metadata": {},
   "outputs": [
    {
     "data": {
      "text/plain": [
       "Unnamed: 0.1            0\n",
       "application_type        0\n",
       "debt_settlement_flag    0\n",
       "emp_length              0\n",
       "emp_title               0\n",
       "hardship_flag           0\n",
       "home_ownership          0\n",
       "initial_list_status     0\n",
       "purpose                 0\n",
       "pymnt_plan              0\n",
       "sub_grade               0\n",
       "title                   0\n",
       "verification_status     0\n",
       "dtype: int64"
      ]
     },
     "execution_count": 19,
     "metadata": {},
     "output_type": "execute_result"
    }
   ],
   "source": [
    "X_cate.isnull().sum(axis=0)"
   ]
  },
  {
   "cell_type": "markdown",
   "metadata": {},
   "source": [
    "### 4.2 轉成 dummy"
   ]
  },
  {
   "cell_type": "code",
   "execution_count": 20,
   "metadata": {},
   "outputs": [
    {
     "name": "stdout",
     "output_type": "stream",
     "text": [
      "(1500, 1150)\n"
     ]
    }
   ],
   "source": [
    "X_cate_dum = pd.get_dummies(X_cate)\n",
    "print(X_cate_dum.shape)"
   ]
  },
  {
   "cell_type": "code",
   "execution_count": 21,
   "metadata": {},
   "outputs": [
    {
     "data": {
      "text/html": [
       "<div>\n",
       "<style scoped>\n",
       "    .dataframe tbody tr th:only-of-type {\n",
       "        vertical-align: middle;\n",
       "    }\n",
       "\n",
       "    .dataframe tbody tr th {\n",
       "        vertical-align: top;\n",
       "    }\n",
       "\n",
       "    .dataframe thead th {\n",
       "        text-align: right;\n",
       "    }\n",
       "</style>\n",
       "<table border=\"1\" class=\"dataframe\">\n",
       "  <thead>\n",
       "    <tr style=\"text-align: right;\">\n",
       "      <th></th>\n",
       "      <th>Unnamed: 0.1</th>\n",
       "      <th>application_type_Individual</th>\n",
       "      <th>application_type_Joint App</th>\n",
       "      <th>debt_settlement_flag_N</th>\n",
       "      <th>debt_settlement_flag_Y</th>\n",
       "      <th>emp_length_1 year</th>\n",
       "      <th>emp_length_10more than years</th>\n",
       "      <th>emp_length_2 years</th>\n",
       "      <th>emp_length_3 years</th>\n",
       "      <th>emp_length_4 years</th>\n",
       "      <th>...</th>\n",
       "      <th>title_Moving and relocation</th>\n",
       "      <th>title_Other</th>\n",
       "      <th>title_Vacation</th>\n",
       "      <th>title_baseball</th>\n",
       "      <th>title_new beginning</th>\n",
       "      <th>title_pay off rip off loan</th>\n",
       "      <th>title_unknown</th>\n",
       "      <th>verification_status_Not Verified</th>\n",
       "      <th>verification_status_Source Verified</th>\n",
       "      <th>verification_status_Verified</th>\n",
       "    </tr>\n",
       "  </thead>\n",
       "  <tbody>\n",
       "    <tr>\n",
       "      <th>0</th>\n",
       "      <td>99620</td>\n",
       "      <td>1</td>\n",
       "      <td>0</td>\n",
       "      <td>1</td>\n",
       "      <td>0</td>\n",
       "      <td>1</td>\n",
       "      <td>0</td>\n",
       "      <td>0</td>\n",
       "      <td>0</td>\n",
       "      <td>0</td>\n",
       "      <td>...</td>\n",
       "      <td>0</td>\n",
       "      <td>0</td>\n",
       "      <td>0</td>\n",
       "      <td>0</td>\n",
       "      <td>0</td>\n",
       "      <td>0</td>\n",
       "      <td>0</td>\n",
       "      <td>1</td>\n",
       "      <td>0</td>\n",
       "      <td>0</td>\n",
       "    </tr>\n",
       "    <tr>\n",
       "      <th>1</th>\n",
       "      <td>1676459</td>\n",
       "      <td>0</td>\n",
       "      <td>1</td>\n",
       "      <td>1</td>\n",
       "      <td>0</td>\n",
       "      <td>0</td>\n",
       "      <td>1</td>\n",
       "      <td>0</td>\n",
       "      <td>0</td>\n",
       "      <td>0</td>\n",
       "      <td>...</td>\n",
       "      <td>0</td>\n",
       "      <td>0</td>\n",
       "      <td>0</td>\n",
       "      <td>0</td>\n",
       "      <td>0</td>\n",
       "      <td>0</td>\n",
       "      <td>0</td>\n",
       "      <td>1</td>\n",
       "      <td>0</td>\n",
       "      <td>0</td>\n",
       "    </tr>\n",
       "    <tr>\n",
       "      <th>2</th>\n",
       "      <td>1192524</td>\n",
       "      <td>1</td>\n",
       "      <td>0</td>\n",
       "      <td>1</td>\n",
       "      <td>0</td>\n",
       "      <td>0</td>\n",
       "      <td>1</td>\n",
       "      <td>0</td>\n",
       "      <td>0</td>\n",
       "      <td>0</td>\n",
       "      <td>...</td>\n",
       "      <td>0</td>\n",
       "      <td>0</td>\n",
       "      <td>0</td>\n",
       "      <td>0</td>\n",
       "      <td>0</td>\n",
       "      <td>0</td>\n",
       "      <td>0</td>\n",
       "      <td>1</td>\n",
       "      <td>0</td>\n",
       "      <td>0</td>\n",
       "    </tr>\n",
       "    <tr>\n",
       "      <th>3</th>\n",
       "      <td>2230019</td>\n",
       "      <td>1</td>\n",
       "      <td>0</td>\n",
       "      <td>1</td>\n",
       "      <td>0</td>\n",
       "      <td>0</td>\n",
       "      <td>0</td>\n",
       "      <td>1</td>\n",
       "      <td>0</td>\n",
       "      <td>0</td>\n",
       "      <td>...</td>\n",
       "      <td>0</td>\n",
       "      <td>0</td>\n",
       "      <td>0</td>\n",
       "      <td>0</td>\n",
       "      <td>0</td>\n",
       "      <td>0</td>\n",
       "      <td>0</td>\n",
       "      <td>1</td>\n",
       "      <td>0</td>\n",
       "      <td>0</td>\n",
       "    </tr>\n",
       "    <tr>\n",
       "      <th>4</th>\n",
       "      <td>452696</td>\n",
       "      <td>1</td>\n",
       "      <td>0</td>\n",
       "      <td>1</td>\n",
       "      <td>0</td>\n",
       "      <td>0</td>\n",
       "      <td>0</td>\n",
       "      <td>0</td>\n",
       "      <td>0</td>\n",
       "      <td>0</td>\n",
       "      <td>...</td>\n",
       "      <td>0</td>\n",
       "      <td>1</td>\n",
       "      <td>0</td>\n",
       "      <td>0</td>\n",
       "      <td>0</td>\n",
       "      <td>0</td>\n",
       "      <td>0</td>\n",
       "      <td>0</td>\n",
       "      <td>1</td>\n",
       "      <td>0</td>\n",
       "    </tr>\n",
       "    <tr>\n",
       "      <th>...</th>\n",
       "      <td>...</td>\n",
       "      <td>...</td>\n",
       "      <td>...</td>\n",
       "      <td>...</td>\n",
       "      <td>...</td>\n",
       "      <td>...</td>\n",
       "      <td>...</td>\n",
       "      <td>...</td>\n",
       "      <td>...</td>\n",
       "      <td>...</td>\n",
       "      <td>...</td>\n",
       "      <td>...</td>\n",
       "      <td>...</td>\n",
       "      <td>...</td>\n",
       "      <td>...</td>\n",
       "      <td>...</td>\n",
       "      <td>...</td>\n",
       "      <td>...</td>\n",
       "      <td>...</td>\n",
       "      <td>...</td>\n",
       "      <td>...</td>\n",
       "    </tr>\n",
       "    <tr>\n",
       "      <th>1495</th>\n",
       "      <td>1101193</td>\n",
       "      <td>1</td>\n",
       "      <td>0</td>\n",
       "      <td>1</td>\n",
       "      <td>0</td>\n",
       "      <td>0</td>\n",
       "      <td>1</td>\n",
       "      <td>0</td>\n",
       "      <td>0</td>\n",
       "      <td>0</td>\n",
       "      <td>...</td>\n",
       "      <td>0</td>\n",
       "      <td>0</td>\n",
       "      <td>0</td>\n",
       "      <td>0</td>\n",
       "      <td>0</td>\n",
       "      <td>0</td>\n",
       "      <td>0</td>\n",
       "      <td>1</td>\n",
       "      <td>0</td>\n",
       "      <td>0</td>\n",
       "    </tr>\n",
       "    <tr>\n",
       "      <th>1496</th>\n",
       "      <td>2419501</td>\n",
       "      <td>1</td>\n",
       "      <td>0</td>\n",
       "      <td>1</td>\n",
       "      <td>0</td>\n",
       "      <td>0</td>\n",
       "      <td>1</td>\n",
       "      <td>0</td>\n",
       "      <td>0</td>\n",
       "      <td>0</td>\n",
       "      <td>...</td>\n",
       "      <td>0</td>\n",
       "      <td>0</td>\n",
       "      <td>0</td>\n",
       "      <td>0</td>\n",
       "      <td>0</td>\n",
       "      <td>0</td>\n",
       "      <td>0</td>\n",
       "      <td>0</td>\n",
       "      <td>0</td>\n",
       "      <td>1</td>\n",
       "    </tr>\n",
       "    <tr>\n",
       "      <th>1497</th>\n",
       "      <td>1243704</td>\n",
       "      <td>0</td>\n",
       "      <td>1</td>\n",
       "      <td>1</td>\n",
       "      <td>0</td>\n",
       "      <td>0</td>\n",
       "      <td>1</td>\n",
       "      <td>0</td>\n",
       "      <td>0</td>\n",
       "      <td>0</td>\n",
       "      <td>...</td>\n",
       "      <td>0</td>\n",
       "      <td>0</td>\n",
       "      <td>0</td>\n",
       "      <td>0</td>\n",
       "      <td>0</td>\n",
       "      <td>0</td>\n",
       "      <td>0</td>\n",
       "      <td>0</td>\n",
       "      <td>0</td>\n",
       "      <td>1</td>\n",
       "    </tr>\n",
       "    <tr>\n",
       "      <th>1498</th>\n",
       "      <td>526586</td>\n",
       "      <td>1</td>\n",
       "      <td>0</td>\n",
       "      <td>1</td>\n",
       "      <td>0</td>\n",
       "      <td>1</td>\n",
       "      <td>0</td>\n",
       "      <td>0</td>\n",
       "      <td>0</td>\n",
       "      <td>0</td>\n",
       "      <td>...</td>\n",
       "      <td>0</td>\n",
       "      <td>0</td>\n",
       "      <td>0</td>\n",
       "      <td>0</td>\n",
       "      <td>0</td>\n",
       "      <td>0</td>\n",
       "      <td>0</td>\n",
       "      <td>1</td>\n",
       "      <td>0</td>\n",
       "      <td>0</td>\n",
       "    </tr>\n",
       "    <tr>\n",
       "      <th>1499</th>\n",
       "      <td>2459485</td>\n",
       "      <td>1</td>\n",
       "      <td>0</td>\n",
       "      <td>1</td>\n",
       "      <td>0</td>\n",
       "      <td>0</td>\n",
       "      <td>0</td>\n",
       "      <td>1</td>\n",
       "      <td>0</td>\n",
       "      <td>0</td>\n",
       "      <td>...</td>\n",
       "      <td>0</td>\n",
       "      <td>1</td>\n",
       "      <td>0</td>\n",
       "      <td>0</td>\n",
       "      <td>0</td>\n",
       "      <td>0</td>\n",
       "      <td>0</td>\n",
       "      <td>0</td>\n",
       "      <td>1</td>\n",
       "      <td>0</td>\n",
       "    </tr>\n",
       "  </tbody>\n",
       "</table>\n",
       "<p>1500 rows × 1150 columns</p>\n",
       "</div>"
      ],
      "text/plain": [
       "      Unnamed: 0.1  application_type_Individual  application_type_Joint App  \\\n",
       "0            99620                            1                           0   \n",
       "1          1676459                            0                           1   \n",
       "2          1192524                            1                           0   \n",
       "3          2230019                            1                           0   \n",
       "4           452696                            1                           0   \n",
       "...            ...                          ...                         ...   \n",
       "1495       1101193                            1                           0   \n",
       "1496       2419501                            1                           0   \n",
       "1497       1243704                            0                           1   \n",
       "1498        526586                            1                           0   \n",
       "1499       2459485                            1                           0   \n",
       "\n",
       "      debt_settlement_flag_N  debt_settlement_flag_Y  emp_length_1 year  \\\n",
       "0                          1                       0                  1   \n",
       "1                          1                       0                  0   \n",
       "2                          1                       0                  0   \n",
       "3                          1                       0                  0   \n",
       "4                          1                       0                  0   \n",
       "...                      ...                     ...                ...   \n",
       "1495                       1                       0                  0   \n",
       "1496                       1                       0                  0   \n",
       "1497                       1                       0                  0   \n",
       "1498                       1                       0                  1   \n",
       "1499                       1                       0                  0   \n",
       "\n",
       "      emp_length_10more than years  emp_length_2 years  emp_length_3 years  \\\n",
       "0                                0                   0                   0   \n",
       "1                                1                   0                   0   \n",
       "2                                1                   0                   0   \n",
       "3                                0                   1                   0   \n",
       "4                                0                   0                   0   \n",
       "...                            ...                 ...                 ...   \n",
       "1495                             1                   0                   0   \n",
       "1496                             1                   0                   0   \n",
       "1497                             1                   0                   0   \n",
       "1498                             0                   0                   0   \n",
       "1499                             0                   1                   0   \n",
       "\n",
       "      emp_length_4 years  ...  title_Moving and relocation  title_Other  \\\n",
       "0                      0  ...                            0            0   \n",
       "1                      0  ...                            0            0   \n",
       "2                      0  ...                            0            0   \n",
       "3                      0  ...                            0            0   \n",
       "4                      0  ...                            0            1   \n",
       "...                  ...  ...                          ...          ...   \n",
       "1495                   0  ...                            0            0   \n",
       "1496                   0  ...                            0            0   \n",
       "1497                   0  ...                            0            0   \n",
       "1498                   0  ...                            0            0   \n",
       "1499                   0  ...                            0            1   \n",
       "\n",
       "      title_Vacation  title_baseball  title_new beginning  \\\n",
       "0                  0               0                    0   \n",
       "1                  0               0                    0   \n",
       "2                  0               0                    0   \n",
       "3                  0               0                    0   \n",
       "4                  0               0                    0   \n",
       "...              ...             ...                  ...   \n",
       "1495               0               0                    0   \n",
       "1496               0               0                    0   \n",
       "1497               0               0                    0   \n",
       "1498               0               0                    0   \n",
       "1499               0               0                    0   \n",
       "\n",
       "      title_pay off rip off loan  title_unknown  \\\n",
       "0                              0              0   \n",
       "1                              0              0   \n",
       "2                              0              0   \n",
       "3                              0              0   \n",
       "4                              0              0   \n",
       "...                          ...            ...   \n",
       "1495                           0              0   \n",
       "1496                           0              0   \n",
       "1497                           0              0   \n",
       "1498                           0              0   \n",
       "1499                           0              0   \n",
       "\n",
       "      verification_status_Not Verified  verification_status_Source Verified  \\\n",
       "0                                    1                                    0   \n",
       "1                                    1                                    0   \n",
       "2                                    1                                    0   \n",
       "3                                    1                                    0   \n",
       "4                                    0                                    1   \n",
       "...                                ...                                  ...   \n",
       "1495                                 1                                    0   \n",
       "1496                                 0                                    0   \n",
       "1497                                 0                                    0   \n",
       "1498                                 1                                    0   \n",
       "1499                                 0                                    1   \n",
       "\n",
       "      verification_status_Verified  \n",
       "0                                0  \n",
       "1                                0  \n",
       "2                                0  \n",
       "3                                0  \n",
       "4                                0  \n",
       "...                            ...  \n",
       "1495                             0  \n",
       "1496                             1  \n",
       "1497                             1  \n",
       "1498                             0  \n",
       "1499                             0  \n",
       "\n",
       "[1500 rows x 1150 columns]"
      ]
     },
     "execution_count": 21,
     "metadata": {},
     "output_type": "execute_result"
    }
   ],
   "source": [
    "X_cate_dum"
   ]
  },
  {
   "cell_type": "markdown",
   "metadata": {},
   "source": [
    "## order"
   ]
  },
  {
   "cell_type": "markdown",
   "metadata": {},
   "source": [
    "### 4.3 將nan用mode補植"
   ]
  },
  {
   "cell_type": "code",
   "execution_count": 22,
   "metadata": {},
   "outputs": [
    {
     "data": {
      "text/plain": [
       "Unnamed: 0.1    0\n",
       "grade           0\n",
       "sub_grade       0\n",
       "dtype: int64"
      ]
     },
     "execution_count": 22,
     "metadata": {},
     "output_type": "execute_result"
    }
   ],
   "source": [
    "X_order.isnull().sum(axis=0)"
   ]
  },
  {
   "cell_type": "code",
   "execution_count": 23,
   "metadata": {},
   "outputs": [
    {
     "name": "stderr",
     "output_type": "stream",
     "text": [
      "C:\\ProgramData\\Anaconda3\\lib\\site-packages\\ipykernel_launcher.py:4: SettingWithCopyWarning: \n",
      "A value is trying to be set on a copy of a slice from a DataFrame.\n",
      "Try using .loc[row_indexer,col_indexer] = value instead\n",
      "\n",
      "See the caveats in the documentation: https://pandas.pydata.org/pandas-docs/stable/user_guide/indexing.html#returning-a-view-versus-a-copy\n",
      "  after removing the cwd from sys.path.\n"
     ]
    }
   ],
   "source": [
    "var=X_order.columns.tolist()\n",
    "\n",
    "for i in range(0,len(var)): \n",
    "     X_order[str(var[i])]=X_order[str(var[i])].fillna(X_order[str(var[i])].mode()[0])"
   ]
  },
  {
   "cell_type": "code",
   "execution_count": 24,
   "metadata": {
    "scrolled": true
   },
   "outputs": [
    {
     "data": {
      "text/plain": [
       "Unnamed: 0.1    0\n",
       "grade           0\n",
       "sub_grade       0\n",
       "dtype: int64"
      ]
     },
     "execution_count": 24,
     "metadata": {},
     "output_type": "execute_result"
    }
   ],
   "source": [
    "X_order.isnull().sum(axis=0)"
   ]
  },
  {
   "cell_type": "markdown",
   "metadata": {},
   "source": [
    "### 4.4 轉成有序的dummy"
   ]
  },
  {
   "cell_type": "code",
   "execution_count": 25,
   "metadata": {},
   "outputs": [
    {
     "name": "stdout",
     "output_type": "stream",
     "text": [
      "['A' 'B' 'C' 'D' 'E' 'G' 'F']\n"
     ]
    }
   ],
   "source": [
    "print(X_order['grade'].unique())"
   ]
  },
  {
   "cell_type": "code",
   "execution_count": 26,
   "metadata": {
    "scrolled": true
   },
   "outputs": [],
   "source": [
    "# 方法一\n",
    "\n",
    "var=X_order.columns.tolist()\n",
    "X_order_dummy=pd.DataFrame(columns=X_order.columns)\n",
    "\n",
    "for i in range(0,len(var)): \n",
    "\n",
    "    le = LabelEncoder()\n",
    "    le.fit(X_order[str(var[i])].unique())  \n",
    "    X_order_dummy[str(var[i])]=le.transform(X_order[str(var[i])])"
   ]
  },
  {
   "cell_type": "code",
   "execution_count": 27,
   "metadata": {},
   "outputs": [],
   "source": [
    "# 方法二\n",
    "\n",
    "# Dict = {'A':0 ,'B': 1,'C': 2,'D': 3,'E': 4,'F':5,'G':6}\n",
    "# X_order['grade'] = X_order['grade'].map(Dict)"
   ]
  },
  {
   "cell_type": "code",
   "execution_count": 28,
   "metadata": {},
   "outputs": [
    {
     "name": "stdout",
     "output_type": "stream",
     "text": [
      "(1500, 3)\n"
     ]
    }
   ],
   "source": [
    "print(X_order_dummy.shape)"
   ]
  },
  {
   "cell_type": "markdown",
   "metadata": {},
   "source": [
    "## num"
   ]
  },
  {
   "cell_type": "markdown",
   "metadata": {},
   "source": [
    "### 方法一: 用 mean補值"
   ]
  },
  {
   "cell_type": "code",
   "execution_count": 29,
   "metadata": {},
   "outputs": [
    {
     "data": {
      "text/plain": [
       "Unnamed: 0.1                  0\n",
       "loan_amnt                     0\n",
       "funded_amnt                   0\n",
       "funded_amnt_inv               0\n",
       "term                          4\n",
       "                             ..\n",
       "tax_liens                     0\n",
       "tot_hi_cred_lim               0\n",
       "total_bal_ex_mort             0\n",
       "total_bc_limit                0\n",
       "total_il_high_credit_limit    0\n",
       "Length: 71, dtype: int64"
      ]
     },
     "execution_count": 29,
     "metadata": {},
     "output_type": "execute_result"
    }
   ],
   "source": [
    "X_num=X_all[num]\n",
    "X_num.isnull().sum(axis=0)"
   ]
  },
  {
   "cell_type": "code",
   "execution_count": 30,
   "metadata": {},
   "outputs": [
    {
     "name": "stdout",
     "output_type": "stream",
     "text": [
      "(1500, 71)\n"
     ]
    }
   ],
   "source": [
    "var=X_num.columns.tolist()\n",
    "X_num_imp_mean=pd.DataFrame(columns=X_num.columns)\n",
    "\n",
    "for i in range(0,len(var)): \n",
    "     X_num_imp_mean[str(var[i])]=X_num[str(var[i])].fillna(X_num[str(var[i])].mean())\n",
    "\n",
    "print(X_num_imp_mean.shape)"
   ]
  },
  {
   "cell_type": "code",
   "execution_count": 31,
   "metadata": {},
   "outputs": [
    {
     "data": {
      "text/plain": [
       "Unnamed: 0.1                  0\n",
       "loan_amnt                     0\n",
       "funded_amnt                   0\n",
       "funded_amnt_inv               0\n",
       "term                          0\n",
       "                             ..\n",
       "tax_liens                     0\n",
       "tot_hi_cred_lim               0\n",
       "total_bal_ex_mort             0\n",
       "total_bc_limit                0\n",
       "total_il_high_credit_limit    0\n",
       "Length: 71, dtype: int64"
      ]
     },
     "execution_count": 31,
     "metadata": {},
     "output_type": "execute_result"
    }
   ],
   "source": [
    "X_num_imp_mean.isnull().sum(axis=0)"
   ]
  },
  {
   "cell_type": "markdown",
   "metadata": {},
   "source": [
    "### 方法二: 用 knn補值"
   ]
  },
  {
   "cell_type": "code",
   "execution_count": 32,
   "metadata": {},
   "outputs": [
    {
     "data": {
      "text/plain": [
       "Unnamed: 0.1                  0\n",
       "loan_amnt                     0\n",
       "funded_amnt                   0\n",
       "funded_amnt_inv               0\n",
       "term                          4\n",
       "                             ..\n",
       "tax_liens                     0\n",
       "tot_hi_cred_lim               0\n",
       "total_bal_ex_mort             0\n",
       "total_bc_limit                0\n",
       "total_il_high_credit_limit    0\n",
       "Length: 71, dtype: int64"
      ]
     },
     "execution_count": 32,
     "metadata": {},
     "output_type": "execute_result"
    }
   ],
   "source": [
    "X_num=X_all[num]\n",
    "X_num.isnull().sum(axis=0)"
   ]
  },
  {
   "cell_type": "code",
   "execution_count": null,
   "metadata": {},
   "outputs": [],
   "source": [
    "pip install fancyimpute"
   ]
  },
  {
   "cell_type": "code",
   "execution_count": null,
   "metadata": {
    "scrolled": true
   },
   "outputs": [],
   "source": [
    "import fancyimpute\n",
    "from fancyimpute import KNN\n",
    "import random\n",
    "\n",
    "X_num_imp_knn = pd.DataFrame(KNN(k=5).fit_transform(X_num),columns = X_num.columns)\n"
   ]
  },
  {
   "cell_type": "code",
   "execution_count": null,
   "metadata": {},
   "outputs": [],
   "source": []
  },
  {
   "cell_type": "markdown",
   "metadata": {},
   "source": [
    "### 方法三: 用 mice補值"
   ]
  },
  {
   "cell_type": "code",
   "execution_count": null,
   "metadata": {},
   "outputs": [],
   "source": [
    "from sklearn.impute import IterativeImputer"
   ]
  },
  {
   "cell_type": "code",
   "execution_count": null,
   "metadata": {},
   "outputs": [],
   "source": [
    "# 需要補值的整筆 data\n",
    "use_var=['id']+num_without_na.index.tolist()+num_with_na_le20.index.tolist() #加入 id\n",
    "X_num_use_var=X_all[use_var]\n",
    "print(X_num_use_var.shape)\n",
    "\n",
    "# data中沒有 missing value 的部分(觀測值)\n",
    "filter=X_num_use_var.isnull().sum(axis=1)==0\n",
    "X_num_use_var_rowwithoutna=X_num_use_var[filter] # 含有 NA的 觀測值分\n",
    "print(X_num_use_var_rowwithoutna.shape)\n",
    "\n",
    "# data中有 missing value 的部分(觀測值)\n",
    "filter=X_num_use_var.isnull().sum(axis=1)!=0\n",
    "X_num_use_var_rowwithna=X_num_use_var[filter] # 含有 NA的 觀測值分\n",
    "print(X_num_use_var_rowwithna.shape)"
   ]
  },
  {
   "cell_type": "code",
   "execution_count": null,
   "metadata": {},
   "outputs": [],
   "source": [
    "# 補植 IterativeImputer\n",
    "imp = IterativeImputer(max_iter=20, random_state=0)\n",
    "imp.fit(X_num_use_var) # 整筆 _X_train_num\n",
    "                                        \n",
    "                                                   # 要補值的部分\n",
    "X_num_rowwithna_imp=pd.DataFrame(imp.transform(X_num_use_var_rowwithna),index=X_num_use_var_rowwithna.index,columns=X_num_use_var_rowwithna.columns)\n",
    "print(X_num_rowwithna_imp.shape)\n",
    "\n",
    "\n",
    "# 上下合併  補完後的部分 和 沒有 missing value(觀測直) 的部分合併\n",
    "X_num_imp=pd.concat([X_num_use_var_rowwithoutna,X_num_rowwithna_imp],axis=0)\n",
    "# 確保每個觀測直的位子和原本一樣，沒有打亂。前半是train \n",
    "X_num_imp=X_num_imp.sort_index()  \n",
    "print(X_num_imp.shape)"
   ]
  },
  {
   "cell_type": "code",
   "execution_count": null,
   "metadata": {},
   "outputs": [],
   "source": []
  },
  {
   "cell_type": "code",
   "execution_count": null,
   "metadata": {},
   "outputs": [],
   "source": []
  }
 ],
 "metadata": {
  "kernelspec": {
   "display_name": "Python 3",
   "language": "python",
   "name": "python3"
  },
  "language_info": {
   "codemirror_mode": {
    "name": "ipython",
    "version": 3
   },
   "file_extension": ".py",
   "mimetype": "text/x-python",
   "name": "python",
   "nbconvert_exporter": "python",
   "pygments_lexer": "ipython3",
   "version": "3.7.6"
  }
 },
 "nbformat": 4,
 "nbformat_minor": 4
}
